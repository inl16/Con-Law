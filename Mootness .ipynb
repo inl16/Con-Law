{
 "cells": [
  {
   "cell_type": "code",
   "execution_count": 1,
   "id": "551310f4",
   "metadata": {},
   "outputs": [
    {
     "name": "stdout",
     "output_type": "stream",
     "text": [
      "this is about mootness - it presents a live controversy at all stages of federal court litigation\n"
     ]
    }
   ],
   "source": [
    "print(\"this is about mootness - it presents a live controversy at all stages of federal court litigation\")"
   ]
  },
  {
   "cell_type": "code",
   "execution_count": null,
   "id": "bcfc2604",
   "metadata": {},
   "outputs": [],
   "source": [
    "happens=input(\"if anything happens while the lawsuit is pending to end the platinffs injury. is the case moot\")\n",
    "\n",
    "if happens==\"yes\":\n",
    "    print(\"the case is moot\")\n",
    "    print(\"criminal dies during ttrial- the law is repealed\")\n",
    "    print(\"Moor v Oggvile- they lost the election and there was no way of getting any relif - \")\n",
    "    while True:\n",
    "        class_=input(\"what if there is a class and the lead plaintiff loses stake. is the case moot. \")\n",
    "        \n",
    "        if class_==\"yes\":\n",
    "            print(\"sorry boss. not always correct\")\n",
    "        else:\n",
    "            print(\"UNited parole commission v geraghtty - case might not be mooot -he coudl still face conseuqnces based on the outcome \")\n",
    "            while True:\n",
    "                cessation=input(\"what if the harm can be voluntarily ceased by the defendant? is it moot\")\n",
    "                if cessation==\"yes\":\n",
    "                    print(\"sorry boss. not always correct\")\n",
    "                else:\n",
    "                    print(\"if it can be repeated then it might not be moot \")\n",
    "                    print(\"Friends of the Eath inc v laidlaw - there is a reaosnable likelihood that they coudl violate the clean water act again\")\n"
   ]
  },
  {
   "cell_type": "code",
   "execution_count": null,
   "id": "0be235a6",
   "metadata": {},
   "outputs": [],
   "source": [
    "repetition=input(\"what if it was capable of repetition yet evading review. is it moot?\")\n",
    "\n",
    "if repetition==\"no\":\n",
    "    print(\"it coudl happen to hte plaintiff again - \")\n",
    "    print(\"Roe v Wade -she can always get pregnant again- by the time she reacehd the surpeme court she was no logner pregnant \")\n",
    "    while True:\n",
    "        weird=input(\"is there a weird caveat in this case\")\n",
    "        if weird==\"yes\":\n",
    "            print(\"Defunis v Ogden - the court cna still hear the case - it coudl rise again the future. but it is mot he was already aditted to a new law school -  \")"
   ]
  }
 ],
 "metadata": {
  "kernelspec": {
   "display_name": "Python 3",
   "language": "python",
   "name": "python3"
  },
  "language_info": {
   "codemirror_mode": {
    "name": "ipython",
    "version": 3
   },
   "file_extension": ".py",
   "mimetype": "text/x-python",
   "name": "python",
   "nbconvert_exporter": "python",
   "pygments_lexer": "ipython3",
   "version": "3.11.1 (v3.11.1:a7a450f84a, Dec  6 2022, 15:24:06) [Clang 13.0.0 (clang-1300.0.29.30)]"
  },
  "vscode": {
   "interpreter": {
    "hash": "aee8b7b246df8f9039afb4144a1f6fd8d2ca17a180786b69acc140d282b71a49"
   }
  }
 },
 "nbformat": 4,
 "nbformat_minor": 5
}

{
 "cells": [
  {
   "cell_type": "code",
   "execution_count": null,
   "id": "451bf729",
   "metadata": {},
   "outputs": [
    {
     "name": "stdout",
     "output_type": "stream",
     "text": [
      "Lets see if you have standing. type yes or no for all questions\n",
      "do yo have an injury in fact?yes\n",
      "great. this is something that is a legally protected \n",
      " interest whihc is a concrete particularized and actual or imminent\n",
      ". were you direclty affected by the lawyes\n",
      "great so that means that you have a concrete injury\n",
      "refer to MASS v EPA they lost centimeters worth of land. lol\n",
      "refer to FEC v Aikins. they lost their election money.\n"
     ]
    }
   ],
   "source": [
    "print(\"Lets see if you have standing. type yes or no for all questions\")\n",
    "\n",
    "injury = input(\"do yo have an injury in fact?\")\n",
    "\n",
    "if injury==\"yes\":\n",
    "    print(\"great. this is something that is a legally protected \\n interest whihc is a concrete particularized and actual or imminent\")\n",
    "    while True:\n",
    "        concrete=input(\". were you direclty affected by the law\")\n",
    "        if concrete==\"yes\":\n",
    "            print(\"great so that means that you have a concrete injury\")\n",
    "            print(\"refer to MASS v EPA they lost centimeters worth of land. lol\")\n",
    "            print(\"refer to FEC v Aikins. they lost their election money.\")\n",
    "            while True:\n",
    "                particularized=input(\"so is the harm specific to the person bringing the claim or the group \")\n",
    "                if particularized==\"yes\":\n",
    "                    print(\"great. refer to cases like Mass v EPA where the court that they had specific facts \")\n",
    "                    print(\"MASS v EPA- yes i am suffering actual harm to my coastline\")\n",
    "                    while True:\n",
    "                        actual_imminent = input(\"so was it actual or imminent and not speculative?\")\n",
    "                        \n",
    "                        if actual_imminent==\"yes\":\n",
    "                            print(\"great so it looks like you have all the injury in fact requirements. \")\n",
    "                        else:\n",
    "                            print(\"ok well then refer to cases like clapper. - the future harms speculative. cant prove if they were going to be spied on\")\n",
    "                            print(\"MASS v EPA- take hundreds of years before sea level cause real damages\")\n",
    "                            print(\"lujan. you said that you were going to go back someday. not going to work boss.\")\n",
    "                                \n",
    "                                    \n",
    "                          \n",
    "                          \n",
    "                else:\n",
    "                    print(\"\")\n",
    "                    \n",
    "        else:\n",
    "            print(\"sorry boss no standing\")\n",
    "            print(\"refer to the allen v wright case. court found it didnt really affect them. \\n refer to lujan. court said not being able to observe the species was not concrete\")\n",
    "            print(\"refere to TransUninion. they were in the drawer but their names hadnt been used yet.nothing happened to them yet \")\n",
    "            print(\"refer to California v Texas. cant have an injury if penalty is zero dollars. \")\n",
    "else:\n",
    "    print(\"then its probably not likely that you have standing\")"
   ]
  },
  {
   "cell_type": "code",
   "execution_count": null,
   "id": "7032f181",
   "metadata": {},
   "outputs": [],
   "source": [
    "print(\"lets see if you have a causation\")\n",
    "print(\"these are all yes or no questions\")\n",
    "\n",
    "causation=input(\"is the injury the result of the decalred misconduct?\")\n",
    "\n",
    "if causation==\"yes\":\n",
    "    print(\"refer to Mass v EPA - failure to mitigate greenhouse gas emissions from motor vehicles- EPA action traceable\")\n",
    "    \n",
    "else:\n",
    "    print(\"refer to lujan. they couldnt see if the secretarys misconduct hurt the injuries\")\n",
    "    print(\"Allen v Wright - too many factors to see if the tax exemption was the cause \")\n",
    "    print(\"california v texas. if the penalty is zero . how cna you say they caused the harm?\")"
   ]
  },
  {
   "cell_type": "code",
   "execution_count": null,
   "id": "095797ec",
   "metadata": {},
   "outputs": [],
   "source": [
    "print(\"lets see if you have redressability\")\n",
    "\n",
    "redress=input(\"so will a judicial victory change the result in the case. will it eradicate the harm\")\n",
    "if redress=\"yes\":\n",
    "    print(\"MASS v EPA- cant redress becuase you cant put land back but lowering it can reduce the exacerbation\")\n",
    "    print(\"FEC Aikins - if we redress then we can show that they can file as a political committee- hiding campaign contributions from the public which would undermine the transparency of the electoral process\")\n",
    "else:\n",
    "    print(\"refer to lujan. it was not a likely redress as they needed a particularized injury \")\n",
    "    print(\"lujan - even if the agencies complied and did not fund the projects. it would still have the same effect on the aniamls\")\n",
    "    "
   ]
  },
  {
   "cell_type": "code",
   "execution_count": null,
   "id": "1977c161",
   "metadata": {},
   "outputs": [],
   "source": []
  }
 ],
 "metadata": {
  "kernelspec": {
   "display_name": "Python 3 (ipykernel)",
   "language": "python",
   "name": "python3"
  },
  "language_info": {
   "codemirror_mode": {
    "name": "ipython",
    "version": 3
   },
   "file_extension": ".py",
   "mimetype": "text/x-python",
   "name": "python",
   "nbconvert_exporter": "python",
   "pygments_lexer": "ipython3",
   "version": "3.9.7"
  }
 },
 "nbformat": 4,
 "nbformat_minor": 5
}

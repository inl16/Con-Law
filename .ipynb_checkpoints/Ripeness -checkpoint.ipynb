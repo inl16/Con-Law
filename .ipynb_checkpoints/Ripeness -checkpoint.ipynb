{
 "cells": [
  {
   "cell_type": "code",
   "execution_count": 1,
   "id": "16efc159",
   "metadata": {},
   "outputs": [
    {
     "name": "stdout",
     "output_type": "stream",
     "text": [
      "it has not yet become concrete to be easily adjudicated \n",
      "they cant have suffered teh harm it will be enough that there is a reasonably high possibilty of the harm- and the harm must be specific\n"
     ]
    }
   ],
   "source": [
    "print(\"it has not yet become concrete to be easily adjudicated \")\n",
    "print(\"they cant have suffered teh harm it will be enough that there is a reasonably high possibilty of the harm- and the harm must be specific\")"
   ]
  },
  {
   "cell_type": "code",
   "execution_count": null,
   "id": "bb82f31f",
   "metadata": {},
   "outputs": [
    {
     "name": "stdout",
     "output_type": "stream",
     "text": [
      "so has the law been enforced and will you be adjudicated? yes\n",
      "great so then this isnt ripe\n",
      "are you under any threat of any imminent injury or adjudicationyes\n",
      "then the case is good \n",
      "Griswold v Connecticut- they have a real rihgt o privacy conccern-faced possibilty of imprisonement\n"
     ]
    }
   ],
   "source": [
    "enforced= input(\"so has the law been enforced and will you be adjudicated? \")\n",
    "\n",
    "if enforced==\"yes\":\n",
    "    print(\"great so then this isnt ripe\")\n",
    "\n",
    "    while True:\n",
    "        imminent=input(\"are you under any threat of any imminent injury or adjudication\")\n",
    "        \n",
    "        \n",
    "        if imminent==\"yes\":\n",
    "            print(\"then the case is good \")\n",
    "            print(\"Griswold v Connecticut- they have a real rihgt o privacy conccern-faced possibilty of imprisonement\")\n",
    "        else:\n",
    "            print(\"the case is not yet ripe for adjudication\")\n",
    "            print(\"abbot v gardener- they couldnt prove that they were going to be harmed yet\")\n",
    "            print(\"international longshoreman v boyd- no adverse had befallen the immigrants because they hadnt tried to get back in the US \")\n",
    "            print(\"united public workers v mitchell- they havent carried out the political activities that would get them in trouble\")\n",
    "            print(\"lake carries association - prohibited discharge of sewage from boats - challneged validity - enforcemnetwould be years in the future\")\n",
    "            print(\"poe v ullman - they were under no dagner as they hadnt been adjudicated - case is too hypothetical \")\n",
    "else:\n",
    "    print(\"it is not ripe \")\n",
    "    print(\"Poe v Ullman - the law was not being enforced and they were not impacted\\n case too hypothetical \")"
   ]
  },
  {
   "cell_type": "code",
   "execution_count": null,
   "id": "60121979",
   "metadata": {},
   "outputs": [],
   "source": []
  }
 ],
 "metadata": {
  "kernelspec": {
   "display_name": "Python 3 (ipykernel)",
   "language": "python",
   "name": "python3"
  },
  "language_info": {
   "codemirror_mode": {
    "name": "ipython",
    "version": 3
   },
   "file_extension": ".py",
   "mimetype": "text/x-python",
   "name": "python",
   "nbconvert_exporter": "python",
   "pygments_lexer": "ipython3",
   "version": "3.9.7"
  }
 },
 "nbformat": 4,
 "nbformat_minor": 5
}

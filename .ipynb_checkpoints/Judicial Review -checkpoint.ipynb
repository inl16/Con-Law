{
 "cells": [
  {
   "cell_type": "code",
   "execution_count": null,
   "id": "d568ee7a",
   "metadata": {},
   "outputs": [],
   "source": [
    "review_1= input(\"what is the supreme law of the land: \\n type (constitution)\")\n",
    "\n",
    "if review_1==\"constitution\":\n",
    "    while True:\n",
    "        review_2=input(\"\\n does the law from the legislature conflict with the constitution? type yes or no\")\n",
    "        \n",
    "        if review_2==\"yes\":\n",
    "            print(\"\\n if it conflicts with the constitution then it will not pass\\n any act repugnant to the constitution must be void\\n it is the province of the judicial department to say what the law is\")\n",
    "            \n",
    "            while True:\n",
    "                review_3=input(\"if the supreme court makes a pronouncement that binds every lower court - are the states bound to it- type yes or no\")\n",
    "                if review_3=\"yes\":\n",
    "                    print(\"yes think about cooper v aaron. think about marbury v madison\")\n",
    "        else:\n",
    "            print(\"\\n then the law is fine\\n remember the constituion is paramount\")\n",
    "            break\n",
    "            "
   ]
  },
  {
   "cell_type": "code",
   "execution_count": null,
   "id": "5f393416",
   "metadata": {},
   "outputs": [
    {
     "name": "stdout",
     "output_type": "stream",
     "text": [
      "type yes to see what article 3 saysyes\n",
      "\n",
      "judicial power of the united states shall be vested in one supreme court\n",
      "does this power extend to all cases and controversies-type yes or noyes\n",
      "\n",
      "yes it extends to all cases and controversies\n",
      " think Martin v Hunters Lessee \n",
      " think Cohen v Virginia\n",
      "\n",
      " this is because rulings have to applied uniformly across the united states. \n",
      "does this power extend to all cases and controversies-type yes or noyes\n",
      "\n",
      "yes it extends to all cases and controversies\n",
      " think Martin v Hunters Lessee \n",
      " think Cohen v Virginia\n",
      "\n",
      " this is because rulings have to applied uniformly across the united states. \n"
     ]
    }
   ],
   "source": [
    "article_3=input(\"type yes to see what article 3 section 1 says\")\n",
    "\n",
    "if article_3==\"yes\":\n",
    "    print(\"\\njudicial power of the united states shall be vested in one supreme court\")\n",
    "    while True:\n",
    "        article_3s1=input(\"this question is for article 3 section 2 - does this power extend to all cases and controversies-type yes or no\")\n",
    "        \n",
    "        if article_3s1==\"yes\":\n",
    "            print(\"\\nyes it extends to all cases and controversies\\n think Martin v Hunters Lessee \\n think Cohen v Virginia\")\n",
    "            print(\"\\n this is because rulings have to applied uniformly across the united states. \")\n",
    "            \n",
    "        else:\n",
    "            print(\"sorry boss. try again\")\n",
    "            print(\"remeber that the supreme court has appellate juristiction in all cases\")"
   ]
  },
  {
   "cell_type": "code",
   "execution_count": null,
   "id": "c8335d96",
   "metadata": {},
   "outputs": [],
   "source": []
  }
 ],
 "metadata": {
  "kernelspec": {
   "display_name": "Python 3",
   "language": "python",
   "name": "python3"
  },
  "language_info": {
   "codemirror_mode": {
    "name": "ipython",
    "version": 3
   },
   "file_extension": ".py",
   "mimetype": "text/x-python",
   "name": "python",
   "nbconvert_exporter": "python",
   "pygments_lexer": "ipython3",
   "version": "3.11.1 (v3.11.1:a7a450f84a, Dec  6 2022, 15:24:06) [Clang 13.0.0 (clang-1300.0.29.30)]"
  },
  "vscode": {
   "interpreter": {
    "hash": "aee8b7b246df8f9039afb4144a1f6fd8d2ca17a180786b69acc140d282b71a49"
   }
  }
 },
 "nbformat": 4,
 "nbformat_minor": 5
}

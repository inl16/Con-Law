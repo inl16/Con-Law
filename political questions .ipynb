{
 "cells": [
  {
   "cell_type": "code",
   "execution_count": 3,
   "id": "829df19a",
   "metadata": {},
   "outputs": [
    {
     "name": "stdout",
     "output_type": "stream",
     "text": [
      " a political question is one that courts will not provide opinion on hypothetical sets or future events that do not involve a concrete dipute between the parties\n",
      "all questions are yes or no questions\n",
      "do you have your seperation of power- a commitment to antoher branch?no\n",
      "great\n",
      "do you have mangaeable standards?yes\n",
      "great then you shouold be good for political question\n"
     ]
    }
   ],
   "source": [
    "print(\" a political question is one that courts will not provide opinion on hypothetical sets or future events that do not involve a concrete dipute between the parties\")\n",
    "\n",
    "print(\"all questions are yes or no questions\")\n",
    "\n",
    "political_question=input(\"do you have your seperation of power- a commitment to antoher branch?\")\n",
    "if political_question==\"no\":\n",
    "    print(\"great\")\n",
    "    standards=input(\"do you have mangaeable standards?\")\n",
    "    \n",
    "    if standards==\"yes\":\n",
    "        print(\"great then you shouold be good for political question\")"
   ]
  },
  {
   "cell_type": "code",
   "execution_count": null,
   "id": "ea012551",
   "metadata": {},
   "outputs": [
    {
     "name": "stdout",
     "output_type": "stream",
     "text": [
      "this is seperation of power\n"
     ]
    }
   ],
   "source": [
    "print(\"this is seperation of power\")\n",
    "print(\"another branch cannot have spoken on the issue and there needs to be uniformity amognst the branches \")\n",
    "\n",
    "seperation=input(\"so are the powers textually commmited to antoher branch/n is the issue committed to atoher branch of federal government\")\n",
    "\n",
    "if seperation==\"yes\":\n",
    "    print('they are not allowed to do this')\n",
    "    print(\"courts will refuse to decide a case on political questions - clearly commited by the constituion to antoher branch of government \")\n",
    "    print(\"refer to powell v mccormack- court wont change the election standards in congress\")\n",
    "    print(\"Zivotovsky v Clinton - the president has the power over foregin affairs - but can hear the case beacuse it was about interpreting a statute\")\n",
    "    print(\"Nixon v United States - cant decide this - senate has sole power to decide the impeachments\")\n",
    "    print(\"goldwater v carter - president is allowed to decide treaties exclusively matter of foreign affairs \")\n",
    "else:\n",
    "    print(\"they are allowed to review this \")\n",
    "    print(\"federalism - this is federal over state- not one branch of the federal govenrment over another \")"
   ]
  },
  {
   "cell_type": "code",
   "execution_count": null,
   "id": "dd37be54",
   "metadata": {},
   "outputs": [],
   "source": [
    "print(\"this is for manageable standards\")\n",
    "print(\"are there manageable standards by which the court can provide the issue\")\n",
    "\n",
    "standards= input(\"so are there amnageable standards\")\n",
    "\n",
    "if standards==\"yes\":\n",
    "    print(\"they can hear the case \")\n",
    "    print(\"Baker v Carr - case is governable by the fourteenth amenemnet and the equal protection clause\")\n",
    "    print(\"Baker v Carr- state was violating a clear rule\")\n",
    "    \n",
    "else:\n",
    "    print(\"Cant hear the issue \")\n",
    "    print(\"Coleman v Miller - they cant hear it becuase they cant decide issues on timing a statute \")\n",
    "    print(\"Rucho v Common Cuase - some level of gerrymandering and they will say nothing abot redistricting\")"
   ]
  }
 ],
 "metadata": {
  "kernelspec": {
   "display_name": "Python 3 (ipykernel)",
   "language": "python",
   "name": "python3"
  },
  "language_info": {
   "codemirror_mode": {
    "name": "ipython",
    "version": 3
   },
   "file_extension": ".py",
   "mimetype": "text/x-python",
   "name": "python",
   "nbconvert_exporter": "python",
   "pygments_lexer": "ipython3",
   "version": "3.9.7"
  }
 },
 "nbformat": 4,
 "nbformat_minor": 5
}
